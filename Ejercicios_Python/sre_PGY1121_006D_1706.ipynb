{
  "nbformat": 4,
  "nbformat_minor": 0,
  "metadata": {
    "colab": {
      "name": "sre_PGY1121_006D_1706.ipynb",
      "provenance": [],
      "collapsed_sections": []
    },
    "kernelspec": {
      "name": "python3",
      "display_name": "Python 3"
    },
    "language_info": {
      "name": "python"
    }
  },
  "cells": [
    {
      "cell_type": "code",
      "source": [
        "def visualizar():\n",
        "  lista_asientos\n",
        "  arreglo_multidimensional = np.array([lista_asientos[0:6],\n",
        "                                     lista_asientos[6:12]])\n",
        "  print(\"\"\"\n",
        "        |\t{}\t{}\t{}\t\t{}\t{} {}\t|\n",
        "        |\t\t\t\t\t\t\t\t|\n",
        "        |\t7\tX\tX\t\t10\t11\t12\t|\n",
        "        |\t\t\t\t\t\t\t\t|\n",
        "        |\tX\tX\tX\t\t16\tX\t18\t|\n",
        "        |\t\t\t\t\t\t\t\t|\n",
        "        |\t19\t20\t21\t\t22\t23\t24\t|\n",
        "        |\t\t\t\t\t\t\t\t|\n",
        "        |\t25\t26\t27\t\tX\t29\t30\t|\n",
        "        |______________________                      ________________________|\n",
        "        |______________________                      ________________________|\n",
        "        |\tX\t32\t33\t\t34\t35\t36\t|\n",
        "        |\t\t\t\t\t\t\t\t|\n",
        "        |\t\t\t\t\t\t\t\t|\n",
        "        |\tX\t38\tX\t\t40\t41\tX\t|\n",
        "\n",
        "        \"\"\".format(arreglo_multidimensional[0][0],arreglo_multidimensional[0][1],arreglo_multidimensional[0][2],arreglo_multidimensional[0][3],arreglo_multidimensional[0][4],arreglo_multidimensional[0][5]\n",
        "                   \n",
        "                   ))"
      ],
      "metadata": {
        "id": "zekNYXPZ3x51"
      },
      "execution_count": 49,
      "outputs": []
    },
    {
      "cell_type": "markdown",
      "source": [
        "#1.\tCrea el Arreglo multidimensional de forma correcta."
      ],
      "metadata": {
        "id": "nJNjM6sRwhXC"
      }
    },
    {
      "cell_type": "code",
      "execution_count": 1,
      "metadata": {
        "id": "Jyv4S018wBWK"
      },
      "outputs": [],
      "source": [
        "import numpy as np"
      ]
    },
    {
      "cell_type": "code",
      "source": [
        "from google.colab import drive\n",
        "drive.mount('/content/drive/')"
      ],
      "metadata": {
        "colab": {
          "base_uri": "https://localhost:8080/"
        },
        "id": "03sUUhfw8aVv",
        "outputId": "20e14d9e-f02e-4e52-c2a1-503fad809b2c"
      },
      "execution_count": 23,
      "outputs": [
        {
          "output_type": "stream",
          "name": "stdout",
          "text": [
            "Mounted at /content/drive/\n"
          ]
        }
      ]
    },
    {
      "cell_type": "code",
      "source": [
        "%run '/content/drive/My Drive/SRE_PGY1121_006D_FUNCIONES.ipynb'"
      ],
      "metadata": {
        "id": "QyvZ409O8lXj"
      },
      "execution_count": 53,
      "outputs": []
    },
    {
      "cell_type": "code",
      "source": [
        "lista_asientos = []"
      ],
      "metadata": {
        "id": "TDrbs0SvyHZv"
      },
      "execution_count": 2,
      "outputs": []
    },
    {
      "cell_type": "code",
      "source": [
        "for i in range(1,43):\n",
        "  lista_asientos.append(str(i))"
      ],
      "metadata": {
        "id": "1hgul--PyNZ2"
      },
      "execution_count": 3,
      "outputs": []
    },
    {
      "cell_type": "code",
      "source": [
        "lista_asientos[0]"
      ],
      "metadata": {
        "colab": {
          "base_uri": "https://localhost:8080/",
          "height": 36
        },
        "id": "sRFt29YnyzI0",
        "outputId": "0fecae67-1b54-44be-8526-9b5f841a456b"
      },
      "execution_count": 39,
      "outputs": [
        {
          "output_type": "execute_result",
          "data": {
            "text/plain": [
              "'1'"
            ],
            "application/vnd.google.colaboratory.intrinsic+json": {
              "type": "string"
            }
          },
          "metadata": {},
          "execution_count": 39
        }
      ]
    },
    {
      "cell_type": "code",
      "source": [
        "arreglo_multidimensional = np.array([lista_asientos[0:6],\n",
        "                                     lista_asientos[6:12]])"
      ],
      "metadata": {
        "id": "FajqOZ7ywwbQ"
      },
      "execution_count": 5,
      "outputs": []
    },
    {
      "cell_type": "code",
      "source": [
        "arreglo_multidimensional.shape"
      ],
      "metadata": {
        "id": "gesfsoJ6xHON"
      },
      "execution_count": null,
      "outputs": []
    },
    {
      "cell_type": "code",
      "source": [
        "print(arreglo_multidimensional[0][0])"
      ],
      "metadata": {
        "id": "tkatUAnZz_a2"
      },
      "execution_count": null,
      "outputs": []
    },
    {
      "cell_type": "code",
      "source": [
        "arreglo_multidimensional[0][0] = 500"
      ],
      "metadata": {
        "id": "hKi6HUoz0LWu"
      },
      "execution_count": 8,
      "outputs": []
    },
    {
      "cell_type": "code",
      "source": [
        "print(arreglo_multidimensional[0][0])"
      ],
      "metadata": {
        "id": "fDLs07kC0Rhu"
      },
      "execution_count": null,
      "outputs": []
    },
    {
      "cell_type": "code",
      "source": [
        "arreglo_multidimensional[0][0] = 'f'"
      ],
      "metadata": {
        "id": "uB9BmvOv0VdX"
      },
      "execution_count": 10,
      "outputs": []
    },
    {
      "cell_type": "code",
      "source": [
        "print(arreglo_multidimensional[0][0])"
      ],
      "metadata": {
        "id": "sJJZpKL70Tg8"
      },
      "execution_count": null,
      "outputs": []
    },
    {
      "cell_type": "code",
      "source": [
        "print(arreglo_multidimensional)"
      ],
      "metadata": {
        "colab": {
          "base_uri": "https://localhost:8080/"
        },
        "id": "Qqb-718g1f3e",
        "outputId": "a1c4ec6f-c714-4ef6-c9d4-333671387edd"
      },
      "execution_count": 12,
      "outputs": [
        {
          "output_type": "stream",
          "name": "stdout",
          "text": [
            "[['f' '2' '3' '4' '5' '6']\n",
            " ['7' '8' '9' '10' '11' '12']]\n"
          ]
        }
      ]
    },
    {
      "cell_type": "code",
      "source": [
        "arreglo_multidimensional[0][0] = 'f'"
      ],
      "metadata": {
        "id": "qhbZrvp-3TQF"
      },
      "execution_count": 17,
      "outputs": []
    },
    {
      "cell_type": "code",
      "source": [
        "print(arreglo_multidimensional)"
      ],
      "metadata": {
        "colab": {
          "base_uri": "https://localhost:8080/"
        },
        "id": "7Q_5Drfy3cVC",
        "outputId": "e91c48e3-f732-4547-d0a6-46253b4475f7"
      },
      "execution_count": 18,
      "outputs": [
        {
          "output_type": "stream",
          "name": "stdout",
          "text": [
            "[['f' '2' '3' '4' '5' '6']\n",
            " ['7' '8' '9' '10' '11' '12']]\n"
          ]
        }
      ]
    },
    {
      "cell_type": "markdown",
      "source": [
        "2.\tVisualiza asientos disponibles de forma correcta."
      ],
      "metadata": {
        "id": "EJAFlhAu4HwH"
      }
    },
    {
      "cell_type": "code",
      "source": [
        "visualizar()"
      ],
      "metadata": {
        "colab": {
          "base_uri": "https://localhost:8080/"
        },
        "id": "gvm0fOiy4JCd",
        "outputId": "0fd256dc-6502-43f5-fbc8-8e0540b39ecf"
      },
      "execution_count": 50,
      "outputs": [
        {
          "output_type": "stream",
          "name": "stdout",
          "text": [
            "\n",
            "        |\tX\tX\tX\t\t4\t5 6\t|\n",
            "        |\t\t\t\t\t\t\t\t|\n",
            "        |\t7\tX\tX\t\t10\t11\t12\t|\n",
            "        |\t\t\t\t\t\t\t\t|\n",
            "        |\tX\tX\tX\t\t16\tX\t18\t|\n",
            "        |\t\t\t\t\t\t\t\t|\n",
            "        |\t19\t20\t21\t\t22\t23\t24\t|\n",
            "        |\t\t\t\t\t\t\t\t|\n",
            "        |\t25\t26\t27\t\tX\t29\t30\t|\n",
            "        |______________________                      ________________________|\n",
            "        |______________________                      ________________________|\n",
            "        |\tX\t32\t33\t\t34\t35\t36\t|\n",
            "        |\t\t\t\t\t\t\t\t|\n",
            "        |\t\t\t\t\t\t\t\t|\n",
            "        |\tX\t38\tX\t\t40\t41\tX\t|\n",
            "\n",
            "        \n"
          ]
        }
      ]
    },
    {
      "cell_type": "code",
      "source": [
        "comprar_asiento(lista_asientos)"
      ],
      "metadata": {
        "colab": {
          "base_uri": "https://localhost:8080/"
        },
        "id": "JcsQ2JWmDfNh",
        "outputId": "304e772f-48ed-46cd-92cf-8714099143be"
      },
      "execution_count": 51,
      "outputs": [
        {
          "output_type": "stream",
          "name": "stdout",
          "text": [
            "Ingrese asiento a comprar: 4\n",
            "... compra terminada\n",
            "Solicita los datos del usuario, luego el usuario escoge un asiento, si es usuario de “bancoDuoc” el sistema realiza un 15% de descuento en el total de su pasaje.\n"
          ]
        }
      ]
    },
    {
      "cell_type": "code",
      "source": [
        "visualizar()"
      ],
      "metadata": {
        "colab": {
          "base_uri": "https://localhost:8080/"
        },
        "id": "uF56FRMmDlQu",
        "outputId": "49eea8bd-2136-41a1-98dd-cb86c625ee67"
      },
      "execution_count": 54,
      "outputs": [
        {
          "output_type": "stream",
          "name": "stdout",
          "text": [
            "\n",
            "        |\tX\tX\tX\t\tX\t5 6\t|\n",
            "        |\t\t\t\t\t\t\t\t|\n",
            "        |\t7\tX\tX\t\t10\t11\t12\t|\n",
            "        |\t\t\t\t\t\t\t\t|\n",
            "        |\tX\tX\tX\t\t16\tX\t18\t|\n",
            "        |\t\t\t\t\t\t\t\t|\n",
            "        |\t19\t20\t21\t\t22\t23\t24\t|\n",
            "        |\t\t\t\t\t\t\t\t|\n",
            "        |\t25\t26\t27\t\tX\t29\t30\t|\n",
            "        |______________________                      ________________________|\n",
            "        |______________________                      ________________________|\n",
            "        |\tX\t32\t33\t\t34\t35\t36\t|\n",
            "        |\t\t\t\t\t\t\t\t|\n",
            "        |\t\t\t\t\t\t\t\t|\n",
            "        |\tX\t38\tX\t\t40\t41\tX\t|\n",
            "\n",
            "        \n"
          ]
        }
      ]
    },
    {
      "cell_type": "code",
      "source": [
        "anular_pasaje(lista_asientos)"
      ],
      "metadata": {
        "colab": {
          "base_uri": "https://localhost:8080/"
        },
        "id": "8LP8J-0l9Hqd",
        "outputId": "22839980-ba21-4eac-9bc5-ec6f4e0e7a9d"
      },
      "execution_count": 55,
      "outputs": [
        {
          "name": "stdout",
          "output_type": "stream",
          "text": [
            "Ingrese asiento a anular: 3\n"
          ]
        }
      ]
    },
    {
      "cell_type": "code",
      "source": [
        "visualizar()"
      ],
      "metadata": {
        "colab": {
          "base_uri": "https://localhost:8080/"
        },
        "id": "yEA6yUAOAkSY",
        "outputId": "41ac04e5-c537-416e-8cff-3a90ce843171"
      },
      "execution_count": 56,
      "outputs": [
        {
          "output_type": "stream",
          "name": "stdout",
          "text": [
            "\n",
            "        |\tX\tX\t3\t\tX\t5 6\t|\n",
            "        |\t\t\t\t\t\t\t\t|\n",
            "        |\t7\tX\tX\t\t10\t11\t12\t|\n",
            "        |\t\t\t\t\t\t\t\t|\n",
            "        |\tX\tX\tX\t\t16\tX\t18\t|\n",
            "        |\t\t\t\t\t\t\t\t|\n",
            "        |\t19\t20\t21\t\t22\t23\t24\t|\n",
            "        |\t\t\t\t\t\t\t\t|\n",
            "        |\t25\t26\t27\t\tX\t29\t30\t|\n",
            "        |______________________                      ________________________|\n",
            "        |______________________                      ________________________|\n",
            "        |\tX\t32\t33\t\t34\t35\t36\t|\n",
            "        |\t\t\t\t\t\t\t\t|\n",
            "        |\t\t\t\t\t\t\t\t|\n",
            "        |\tX\t38\tX\t\t40\t41\tX\t|\n",
            "\n",
            "        \n"
          ]
        }
      ]
    },
    {
      "cell_type": "code",
      "source": [
        "lista_asientos"
      ],
      "metadata": {
        "colab": {
          "base_uri": "https://localhost:8080/"
        },
        "id": "G4DT6-BQCLp1",
        "outputId": "1a3e21f8-dbb4-490e-c81c-82889ff1da01"
      },
      "execution_count": 40,
      "outputs": [
        {
          "output_type": "execute_result",
          "data": {
            "text/plain": [
              "['1',\n",
              " 'X',\n",
              " '3',\n",
              " '4',\n",
              " '5',\n",
              " '6',\n",
              " '7',\n",
              " '8',\n",
              " '9',\n",
              " '10',\n",
              " '11',\n",
              " '12',\n",
              " '13',\n",
              " '14',\n",
              " '15',\n",
              " '16',\n",
              " '17',\n",
              " '18',\n",
              " '19',\n",
              " '20',\n",
              " '21',\n",
              " '22',\n",
              " '23',\n",
              " '24',\n",
              " '25',\n",
              " '26',\n",
              " '27',\n",
              " '28',\n",
              " '29',\n",
              " '30',\n",
              " '31',\n",
              " '32',\n",
              " '33',\n",
              " '34',\n",
              " '35',\n",
              " '36',\n",
              " '37',\n",
              " '38',\n",
              " '39',\n",
              " '40',\n",
              " '41',\n",
              " '42']"
            ]
          },
          "metadata": {},
          "execution_count": 40
        }
      ]
    },
    {
      "cell_type": "code",
      "source": [
        "comprar_asiento(lista_asientos)"
      ],
      "metadata": {
        "colab": {
          "base_uri": "https://localhost:8080/"
        },
        "id": "3KKJCr1lAoWr",
        "outputId": "8d0b852e-51ae-4b0a-d243-479596fafc75"
      },
      "execution_count": 45,
      "outputs": [
        {
          "output_type": "stream",
          "name": "stdout",
          "text": [
            "Ingrese asiento a comprar: 1\n",
            "... compra terminada\n",
            "Solicita los datos del usuario, luego el usuario escoge un asiento, si es usuario de “bancoDuoc” el sistema realiza un 15% de descuento en el total de su pasaje.\n"
          ]
        }
      ]
    },
    {
      "cell_type": "code",
      "source": [
        "visualizar()"
      ],
      "metadata": {
        "colab": {
          "base_uri": "https://localhost:8080/"
        },
        "id": "asBgPge4AtaK",
        "outputId": "3dc5ef6a-b745-4d28-d624-f169e6c726c7"
      },
      "execution_count": 46,
      "outputs": [
        {
          "output_type": "stream",
          "name": "stdout",
          "text": [
            "\n",
            "        |\tX\tX\t3\t\t4\t5\t6\t|\n",
            "        |\t\t\t\t\t\t\t\t|\n",
            "        |\t7\tX\tX\t\t10\t11\t12\t|\n",
            "        |\t\t\t\t\t\t\t\t|\n",
            "        |\tX\tX\tX\t\t16\tX\t18\t|\n",
            "        |\t\t\t\t\t\t\t\t|\n",
            "        |\t19\t20\t21\t\t22\t23\t24\t|\n",
            "        |\t\t\t\t\t\t\t\t|\n",
            "        |\t25\t26\t27\t\tX\t29\t30\t|\n",
            "        |______________________                      ________________________|\n",
            "        |______________________                      ________________________|\n",
            "        |\tX\t32\t33\t\t34\t35\t36\t|\n",
            "        |\t\t\t\t\t\t\t\t|\n",
            "        |\t\t\t\t\t\t\t\t|\n",
            "        |\tX\t38\tX\t\t40\t41\tX\t|\n",
            "\n",
            "        \n"
          ]
        }
      ]
    },
    {
      "cell_type": "code",
      "source": [
        "comprar_asiento(lista_asientos)"
      ],
      "metadata": {
        "colab": {
          "base_uri": "https://localhost:8080/"
        },
        "id": "NUkH_U44C75L",
        "outputId": "e40cd435-bf22-44f6-e801-f944e57d48b3"
      },
      "execution_count": 47,
      "outputs": [
        {
          "output_type": "stream",
          "name": "stdout",
          "text": [
            "Ingrese asiento a comprar: 3\n",
            "... compra terminada\n",
            "Solicita los datos del usuario, luego el usuario escoge un asiento, si es usuario de “bancoDuoc” el sistema realiza un 15% de descuento en el total de su pasaje.\n"
          ]
        }
      ]
    },
    {
      "cell_type": "code",
      "source": [
        "visualizar()"
      ],
      "metadata": {
        "colab": {
          "base_uri": "https://localhost:8080/"
        },
        "id": "Ov1MB5coC_Iy",
        "outputId": "a4e668ac-2fd2-42ef-91f8-744e9d8db5dc"
      },
      "execution_count": 48,
      "outputs": [
        {
          "output_type": "stream",
          "name": "stdout",
          "text": [
            "\n",
            "        |\tX\tX\tX\t\t4\t5\t6\t|\n",
            "        |\t\t\t\t\t\t\t\t|\n",
            "        |\t7\tX\tX\t\t10\t11\t12\t|\n",
            "        |\t\t\t\t\t\t\t\t|\n",
            "        |\tX\tX\tX\t\t16\tX\t18\t|\n",
            "        |\t\t\t\t\t\t\t\t|\n",
            "        |\t19\t20\t21\t\t22\t23\t24\t|\n",
            "        |\t\t\t\t\t\t\t\t|\n",
            "        |\t25\t26\t27\t\tX\t29\t30\t|\n",
            "        |______________________                      ________________________|\n",
            "        |______________________                      ________________________|\n",
            "        |\tX\t32\t33\t\t34\t35\t36\t|\n",
            "        |\t\t\t\t\t\t\t\t|\n",
            "        |\t\t\t\t\t\t\t\t|\n",
            "        |\tX\t38\tX\t\t40\t41\tX\t|\n",
            "\n",
            "        \n"
          ]
        }
      ]
    },
    {
      "cell_type": "code",
      "source": [
        "lista_asientos"
      ],
      "metadata": {
        "colab": {
          "base_uri": "https://localhost:8080/"
        },
        "id": "5R9Wa7OE_gHb",
        "outputId": "f5fc4cd8-ad30-4931-93e3-31132302a17f"
      },
      "execution_count": 28,
      "outputs": [
        {
          "output_type": "execute_result",
          "data": {
            "text/plain": [
              "['1',\n",
              " '2',\n",
              " '3',\n",
              " '4',\n",
              " '5',\n",
              " '6',\n",
              " '7',\n",
              " '8',\n",
              " '9',\n",
              " '10',\n",
              " '11',\n",
              " '12',\n",
              " '13',\n",
              " '14',\n",
              " '15',\n",
              " '16',\n",
              " '17',\n",
              " '18',\n",
              " '19',\n",
              " '20',\n",
              " '21',\n",
              " '22',\n",
              " '23',\n",
              " '24',\n",
              " '25',\n",
              " '26',\n",
              " '27',\n",
              " '28',\n",
              " '29',\n",
              " '30',\n",
              " '31',\n",
              " '32',\n",
              " '33',\n",
              " '34',\n",
              " '35',\n",
              " '36',\n",
              " '37',\n",
              " '38',\n",
              " '39',\n",
              " '40',\n",
              " '41',\n",
              " '42']"
            ]
          },
          "metadata": {},
          "execution_count": 28
        }
      ]
    },
    {
      "cell_type": "markdown",
      "source": [
        "3.\tCrea el menú de opciones de forma correcta.\n",
        "4.\tCrea la función comprar pasajes.\n",
        "5.\tCrea la función para Anular Pasaje.\n",
        "6.\tCrea la función Modificar datos Pasajero.\n",
        "7.\tCrea un documento para definir las funciones y luego lo importa correctamente al principal.\n",
        "8.\tGuarda el trabajo en el formato solicitado.\n"
      ],
      "metadata": {
        "id": "5WZNtwGOwe1j"
      }
    }
  ]
}