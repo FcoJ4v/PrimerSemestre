{
  "nbformat": 4,
  "nbformat_minor": 0,
  "metadata": {
    "colab": {
      "name": "SRE_PGY1121_006D_FUNCIONES.ipynb",
      "provenance": [],
      "collapsed_sections": []
    },
    "kernelspec": {
      "name": "python3",
      "display_name": "Python 3"
    },
    "language_info": {
      "name": "python"
    }
  },
  "cells": [
    {
      "cell_type": "code",
      "source": [
        "def comprar_asiento(list):\n",
        "  lista_a = []\n",
        "  lista_a = list\n",
        "  asiento = input(\"Ingrese asiento a comprar: \")\n",
        "  posicion = lista_a.index(asiento)\n",
        "  lista_a[posicion] = 'X'\n",
        "  print(\"... compra terminada\")\n",
        "  print(\"Solicita los datos del usuario, luego el usuario escoge un asiento, si es usuario de “bancoDuoc” el sistema realiza un 15% de descuento en el total de su pasaje.\")\n",
        "\n",
        "def anular_pasaje(list):\n",
        "  lista_asientos = []\n",
        "  lista_asientos = list\n",
        "  asiento = int(input(\"Ingrese asiento a anular: \"))\n",
        "  posicion = (asiento -1)\n",
        "  lista_asientos[posicion] = f'{asiento}'\n",
        "\n",
        "def modificar_datos_pasajero():\n",
        "   print(\"Solicita el asiento y Rut (para verificar datos), luego muestra un submenú, en el cual, debe escoger que dato va a modificar, entre ellos se consideran únicamente el nombrePasajero y telefonoPasajero.\")\n"
      ],
      "metadata": {
        "id": "QEDE5P5S5ukp"
      },
      "execution_count": 17,
      "outputs": []
    },
    {
      "cell_type": "code",
      "source": [
        "lista_asientos"
      ],
      "metadata": {
        "colab": {
          "base_uri": "https://localhost:8080/"
        },
        "id": "dOZoPnTu5zmY",
        "outputId": "eb60336e-0962-480d-f681-d59c0887910d"
      },
      "execution_count": 13,
      "outputs": [
        {
          "output_type": "execute_result",
          "data": {
            "text/plain": [
              "['1',\n",
              " '2',\n",
              " '3',\n",
              " 'X',\n",
              " '5',\n",
              " 'X',\n",
              " '7',\n",
              " '8',\n",
              " 'X',\n",
              " '10',\n",
              " '11',\n",
              " '12',\n",
              " '13',\n",
              " '14',\n",
              " '15',\n",
              " '16',\n",
              " '17',\n",
              " '18',\n",
              " '19',\n",
              " '20',\n",
              " '21',\n",
              " '22',\n",
              " '23',\n",
              " '24',\n",
              " '25',\n",
              " '26',\n",
              " '27',\n",
              " '28',\n",
              " '29',\n",
              " '30',\n",
              " '31',\n",
              " '32',\n",
              " '33',\n",
              " '34',\n",
              " '35',\n",
              " '36',\n",
              " '37',\n",
              " '38',\n",
              " '39',\n",
              " '40',\n",
              " '41',\n",
              " '42']"
            ]
          },
          "metadata": {},
          "execution_count": 13
        }
      ]
    }
  ]
}