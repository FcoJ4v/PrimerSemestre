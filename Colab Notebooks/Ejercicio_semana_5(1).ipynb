{
  "nbformat": 4,
  "nbformat_minor": 0,
  "metadata": {
    "colab": {
      "name": "Ejercicio_semana_5.ipynb",
      "provenance": [],
      "collapsed_sections": []
    },
    "kernelspec": {
      "name": "python3",
      "display_name": "Python 3"
    },
    "language_info": {
      "name": "python"
    }
  },
  "cells": [
    {
      "cell_type": "markdown",
      "source": [
        "1.   Escribir un programa que solicite al usuario que ingrese su nombre. El nombre se debe almacenar en una variable llamada nombre.\n",
        "<br><br>A continuación se debe mostrar en pantalla el texto “Ahora estás en la matrix, [usuario]”, donde “[usuario]” se reemplazará por el nombre que el usuario haya ingresado.\n",
        "\n",
        "\n",
        "\n"
      ],
      "metadata": {
        "id": "SG8uQeYCKEWa"
      }
    },
    {
      "cell_type": "code",
      "execution_count": null,
      "metadata": {
        "id": "Xz2cLKOJJ8tc"
      },
      "outputs": [],
      "source": [
        "# Solución 1\n"
      ]
    },
    {
      "cell_type": "markdown",
      "source": [
        "2.   Escribir un programa que muestre por pantalla la cadena ¡Hola Mundo!."
      ],
      "metadata": {
        "id": "VyntF-72KmcJ"
      }
    },
    {
      "cell_type": "code",
      "source": [
        "# Solución 2"
      ],
      "metadata": {
        "id": "UVyoBDkhK3RO"
      },
      "execution_count": null,
      "outputs": []
    },
    {
      "cell_type": "markdown",
      "source": [
        "3.   Escribir un programa que almacene la cadena ¡Hola Mundo! en una variable y luego muestre por pantalla el contenido de la variable."
      ],
      "metadata": {
        "id": "_lt8JSnDK3ng"
      }
    },
    {
      "cell_type": "code",
      "source": [
        "# Solución 3"
      ],
      "metadata": {
        "id": "nQXT1xAmLTGg"
      },
      "execution_count": null,
      "outputs": []
    },
    {
      "cell_type": "markdown",
      "source": [
        "4.   Escribir un programa que solicite al usuario ingresar un número con decimales y almacenalo en una variable. A continuación, el programa debe solicitar al usuario que ingrese un número entero y guardarlo en otra variable. En una tercera variable se deberá guardar el resultado de la suma de los dos números ingresados por el usuario. Por último, se debe mostrar en pantalla el texto “El resultado de la suma es [suma]”, donde “[suma]” se reemplazará por el resultado de la operación."
      ],
      "metadata": {
        "id": "zgHJleWuLRsI"
      }
    },
    {
      "cell_type": "code",
      "source": [
        "# Solución 4"
      ],
      "metadata": {
        "id": "xb4LAmqLLT34"
      },
      "execution_count": null,
      "outputs": []
    },
    {
      "cell_type": "markdown",
      "source": [
        "5.    Escribir un programa que solicite al usuario dos números y los almacene en dos variables. En otra variable, almacená el resultado de la suma de esos dos números y luego mostrá ese resultado en pantalla.\n",
        "A continuación, el programa debe solicitar al usuario que ingrese un tercer número, el cual se debe almacenar en una nueva variable. Por último, mostrá en pantalla el resultado de la multiplicación de este nuevo número por el resultado de la suma anterior."
      ],
      "metadata": {
        "id": "2KBdoPfCLUOQ"
      }
    },
    {
      "cell_type": "code",
      "source": [
        "# Solución 5"
      ],
      "metadata": {
        "id": "kHtECGzhLlmP"
      },
      "execution_count": null,
      "outputs": []
    },
    {
      "cell_type": "markdown",
      "source": [
        "6.   Escribir un programa que pregunte el nombre del usuario en la consola y después de que el usuario lo introduzca muestre por pantalla la cadena ¡Hola <nombre>!, donde <nombre> es el nombre que el usuario haya introducido."
      ],
      "metadata": {
        "id": "gVDeJRuILlGv"
      }
    },
    {
      "cell_type": "code",
      "source": [
        "# Solución 6"
      ],
      "metadata": {
        "id": "T6uVgLHfLw6X"
      },
      "execution_count": null,
      "outputs": []
    },
    {
      "cell_type": "markdown",
      "source": [
        "7.   Escribir un programa que solicite al usuario ingresar la cantidad de kilómetros recorridos por una motocicleta y la cantidad de litros de combustible que consumió durante ese recorrido. Mostrar el consumo de combustible por kilómetro."
      ],
      "metadata": {
        "id": "m2dKiRwBLlDf"
      }
    },
    {
      "cell_type": "code",
      "source": [
        "# Solución 7"
      ],
      "metadata": {
        "id": "7YJ0pHv3L0eu"
      },
      "execution_count": null,
      "outputs": []
    },
    {
      "cell_type": "markdown",
      "source": [
        "8.   Escribir un programa que muestre por pantalla el resultado de la siguiente operación aritmética \n",
        "   >&lpar;<sup>2+3</sup>&frasl;<sub>5*3</sub>&rpar;"
      ],
      "metadata": {
        "id": "nGCW83-rMIh3"
      }
    },
    {
      "cell_type": "code",
      "source": [
        "# Solución 8"
      ],
      "metadata": {
        "id": "uJ7SgE5NMF0X"
      },
      "execution_count": null,
      "outputs": []
    }
  ]
}