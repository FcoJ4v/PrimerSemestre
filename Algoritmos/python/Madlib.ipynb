{
  "nbformat": 4,
  "nbformat_minor": 0,
  "metadata": {
    "colab": {
      "name": "Madlib.ipynb",
      "provenance": [],
      "collapsed_sections": []
    },
    "kernelspec": {
      "name": "python3",
      "display_name": "Python 3"
    },
    "language_info": {
      "name": "python"
    }
  },
  "cells": [
    {
      "cell_type": "code",
      "execution_count": null,
      "metadata": {
        "colab": {
          "base_uri": "https://localhost:8080/"
        },
        "id": "7XPb-Alw9xI9",
        "outputId": "5f3424f8-3da6-4b5e-94fb-f7698fc96da2"
      },
      "outputs": [
        {
          "output_type": "stream",
          "name": "stdout",
          "text": [
            "========================================\n",
            "    Bienvenido(a) a Historias Locas\n",
            "========================================\n",
            "\n",
            "Por favor ingresa:\n",
            "Adjetivo: alta\n",
            "Verbo: comer\n",
            "Verbo: venir\n",
            "Sustantivo en Plural: sillas\n",
            "\n",
            "¡Programar es tan alta! Siempre me emociona porque me encanta comer problemas.\n",
            "¡Aprende a venir y alcanza tus sillas!\n"
          ]
        }
      ],
      "source": [
        "#Mad Libs (Historias Locas)\n",
        "\n",
        "#Damos la bienvenida mostrando con print\n",
        "\n",
        "print(\"========================================\")\n",
        "print(\"    Bienvenido(a) a Historias Locas\")\n",
        "print(\"========================================\")\n",
        "\n",
        "#Solicitamos ingresar las palabras con input\n",
        "\n",
        "print(\"\\nPor favor ingresa:\")\n",
        "\n",
        "adj = input(\"Adjetivo: \")\n",
        "verbo1 = input(\"Verbo: \")\n",
        "verbo2 = input(\"Verbo: \")\n",
        "sustantivo_plural = input(\"Sustantivo en Plural: \")\n",
        "\n",
        "#Mostramos las palabras ingresadas en la oracion final \n",
        "\n",
        "print(f\"\\n¡Programar es tan {adj}! Siempre me emociona porque me encanta {verbo1} problemas.\\n¡Aprende a {verbo2} y alcanza tus {sustantivo_plural}!\")"
      ]
    },
    {
      "cell_type": "markdown",
      "source": [
        "Mejora de la Historias Locas"
      ],
      "metadata": {
        "id": "nJbXOmuaxSGT"
      }
    },
    {
      "cell_type": "code",
      "source": [
        "#Mad Libs (Mejorada)\n",
        "\n",
        "#Declaramos las variables con las historias que haremos\n",
        "\n",
        "comida = \"Cuando crezcamos seremos verdes y amarillas, también nuestras hermanas las hay de\\noloradas, somos famosas al horno, y vanaglorian nuestra tarta, también puedes comernos\\nsin que estemos cocinadas.\"\n",
        "ropa = \"Tienen justo cinco dedos como la mano; se rellenan en invierno, se vacían en verano.\"\n",
        "musica = \"Soy pequeño y de madera,tengo un arco y no flecha.Me pones entre hombro y barbilla \\n y mi música es una maravilla.\"\n",
        "\n",
        "#Damos la bienvenida mostrando con print\n",
        "\n",
        "print(\"========================================\")\n",
        "print(\"    Bienvenido(a) a Historias Locas\")\n",
        "print(\"========================================\")\n",
        "\n",
        "#Solicitamos ingresar el tema del texto \n",
        "\n",
        "tema = input(\"\\nIngresa que tema quieres para tu historia:\\n1) Comida.\\n2) Ropa.\\n3) Musica.\\nTema: \")\n",
        "\n",
        "#Hacemos la historia para cada tema \n",
        "\n",
        "#Con el tema de comida\n",
        "\n",
        "if tema == \"1\":\n",
        "  print(\"\\nLa adivinanza es:\")\n",
        "  respuesta = input(f\"\\n{comida}\\n\\n¿Que soy?\\nRespuesta: \")\n",
        "\n",
        "  if respuesta == \"manzana\":\n",
        "    print(\"¡Correcto! Soy una manzana.\")\n",
        "\n",
        "  if respuesta != \"manzana\": \n",
        "    print(\"¡Incorrecto! Tienes otra oportunidad. Intento nuevamente.\")\n",
        "    respuesta = input(f\"\\n{comida}\\n\\n¿Que soy?\\nRespuesta: \")\n",
        "\n",
        "    if respuesta == \"manzana\":\n",
        "      print(\"¡Correcto! Soy una manzana.\")\n",
        "\n",
        "    if respuesta != \"manzana\": \n",
        "      print(\"¡Incorrecto! Fallaste.\")\n",
        "\n",
        "#Con el tema de ropa\n",
        "\n",
        "if tema == \"2\":\n",
        "  print(\"\\nLa adivinanza es:\")\n",
        "  respuesta = input(f\"\\n{ropa}\\n\\n¿Quienes somos?\\nRespuesta: \")\n",
        "\n",
        "  if respuesta == \"guantes\":\n",
        "    print(\"¡Correcto! Somos los guantes.\")\n",
        "\n",
        "  if respuesta != \"guantes\": \n",
        "    print(\"¡Incorrecto! Tienes otra oportunidad. Intento nuevamente.\")\n",
        "    respuesta = input(f\"\\n{ropa}\\n\\n¿Quienes somos?\\nRespuesta: \")\n",
        "\n",
        "    if respuesta == \"guantes\":\n",
        "      print(\"¡Correcto! Somos los guantes.\")\n",
        "\n",
        "    if respuesta != \"guantes\": \n",
        "      print(\"¡Incorrecto! Fallaste.\")\n",
        "\n",
        "#Con el tema de la musica\n",
        "\n",
        "if tema == \"2\":\n",
        "  print(\"\\nLa adivinanza es:\")\n",
        "  respuesta = input(f\"\\n{musica}\\n\\n¿Que soy?\\nRespuesta: \")\n",
        "\n",
        "  if respuesta == \"violin\":\n",
        "    print(\"¡Correcto! Soy un violin.\")\n",
        "\n",
        "  if respuesta != \"violin\": \n",
        "    print(\"¡Incorrecto! Tienes otra oportunidad. Intento nuevamente.\")\n",
        "    respuesta = input(f\"\\n{musica}\\n\\n¿Que soy?\\nRespuesta: \")\n",
        "\n",
        "    if respuesta == \"violin\":\n",
        "      print(\"¡Correcto! Soy un violin.\")\n",
        "\n",
        "    if respuesta != \"violin\": \n",
        "      print(\"¡Incorrecto! Fallaste.\")\n",
        "\n"
      ],
      "metadata": {
        "colab": {
          "base_uri": "https://localhost:8080/"
        },
        "id": "A2qFsYqvxRT4",
        "outputId": "aef15786-6a2c-4c0e-9e41-9acefe1d161a"
      },
      "execution_count": null,
      "outputs": [
        {
          "output_type": "stream",
          "name": "stdout",
          "text": [
            "========================================\n",
            "    Bienvenido(a) a Historias Locas\n",
            "========================================\n",
            "\n",
            "Ingresa que tema quieres para tu historia:\n",
            "1) Comida.\n",
            "2) Cine.\n",
            "3) Musica.\n",
            "Tema: 1\n",
            "\n",
            "La deliciosa historia es:\n",
            "\n",
            "Cuando crezcamos seremos verdes y amarillas, también nuestras hermanas las hay de\n",
            "oloradas, somos famosas al horno, y vanaglorian nuestra tarta, también puedes comernos\n",
            "sin que estemos cocinadas.\n",
            "\n",
            "¿Que soy?\n",
            "Respuesta: pera\n",
            "¡Incorrecto! Tienes otra oportunidad. Intento nuevamente.\n",
            "\n",
            "Cuando crezcamos seremos verdes y amarillas, también nuestras hermanas las hay de\n",
            "oloradas, somos famosas al horno, y vanaglorian nuestra tarta, también puedes comernos\n",
            "sin que estemos cocinadas.\n",
            "\n",
            "¿Que soy?\n",
            "Respuesta: manzana\n",
            "¡Correcto! Soy una manzana.\n"
          ]
        }
      ]
    }
  ]
}